{
 "cells": [
  {
   "cell_type": "markdown",
   "metadata": {
    "toc": true
   },
   "source": [
    "<h1>Table of Contents<span class=\"tocSkip\"></span></h1>\n",
    "<div class=\"toc\"><ul class=\"toc-item\"><li><span><a href=\"#Importing-necessary-python-modules-and-defining-functions\" data-toc-modified-id=\"Importing-necessary-python-modules-and-defining-functions-1\"><span class=\"toc-item-num\">1&nbsp;&nbsp;</span>Importing necessary python modules and defining functions</a></span></li><li><span><a href=\"#Validation-dataset\" data-toc-modified-id=\"Validation-dataset-2\"><span class=\"toc-item-num\">2&nbsp;&nbsp;</span>Validation dataset</a></span><ul class=\"toc-item\"><li><span><a href=\"#Obtaining-metadata\" data-toc-modified-id=\"Obtaining-metadata-2.1\"><span class=\"toc-item-num\">2.1&nbsp;&nbsp;</span>Obtaining metadata</a></span></li><li><span><a href=\"#Loading-methylation-$\\beta$-values\" data-toc-modified-id=\"Loading-methylation-$\\beta$-values-2.2\"><span class=\"toc-item-num\">2.2&nbsp;&nbsp;</span>Loading methylation $\\beta$-values</a></span></li><li><span><a href=\"#Putting-it-together\" data-toc-modified-id=\"Putting-it-together-2.3\"><span class=\"toc-item-num\">2.3&nbsp;&nbsp;</span>Putting it together</a></span></li><li><span><a href=\"#Checking-basic-distributions-for-problematic-data\" data-toc-modified-id=\"Checking-basic-distributions-for-problematic-data-2.4\"><span class=\"toc-item-num\">2.4&nbsp;&nbsp;</span>Checking basic distributions for problematic data</a></span></li><li><span><a href=\"#Saving-datatable\" data-toc-modified-id=\"Saving-datatable-2.5\"><span class=\"toc-item-num\">2.5&nbsp;&nbsp;</span>Saving datatable</a></span></li></ul></li><li><span><a href=\"#Additional-dataset-#1\" data-toc-modified-id=\"Additional-dataset-#1-3\"><span class=\"toc-item-num\">3&nbsp;&nbsp;</span>Additional dataset #1</a></span><ul class=\"toc-item\"><li><span><a href=\"#Obtaining-metadata\" data-toc-modified-id=\"Obtaining-metadata-3.1\"><span class=\"toc-item-num\">3.1&nbsp;&nbsp;</span>Obtaining metadata</a></span></li><li><span><a href=\"#Loading-methylation-$\\beta$-values\" data-toc-modified-id=\"Loading-methylation-$\\beta$-values-3.2\"><span class=\"toc-item-num\">3.2&nbsp;&nbsp;</span>Loading methylation $\\beta$-values</a></span></li><li><span><a href=\"#Putting-it-together\" data-toc-modified-id=\"Putting-it-together-3.3\"><span class=\"toc-item-num\">3.3&nbsp;&nbsp;</span>Putting it together</a></span></li><li><span><a href=\"#Checking-basic-distributions-for-problematic-data\" data-toc-modified-id=\"Checking-basic-distributions-for-problematic-data-3.4\"><span class=\"toc-item-num\">3.4&nbsp;&nbsp;</span>Checking basic distributions for problematic data</a></span></li><li><span><a href=\"#Saving-datatable\" data-toc-modified-id=\"Saving-datatable-3.5\"><span class=\"toc-item-num\">3.5&nbsp;&nbsp;</span>Saving datatable</a></span></li></ul></li><li><span><a href=\"#Additional-dataset-#2\" data-toc-modified-id=\"Additional-dataset-#2-4\"><span class=\"toc-item-num\">4&nbsp;&nbsp;</span>Additional dataset #2</a></span><ul class=\"toc-item\"><li><span><a href=\"#Obtaining-metadata\" data-toc-modified-id=\"Obtaining-metadata-4.1\"><span class=\"toc-item-num\">4.1&nbsp;&nbsp;</span>Obtaining metadata</a></span></li><li><span><a href=\"#Loading-methylation-$\\beta$-values\" data-toc-modified-id=\"Loading-methylation-$\\beta$-values-4.2\"><span class=\"toc-item-num\">4.2&nbsp;&nbsp;</span>Loading methylation $\\beta$-values</a></span></li><li><span><a href=\"#Putting-it-together\" data-toc-modified-id=\"Putting-it-together-4.3\"><span class=\"toc-item-num\">4.3&nbsp;&nbsp;</span>Putting it together</a></span></li><li><span><a href=\"#Checking-basic-distributions-for-problematic-data\" data-toc-modified-id=\"Checking-basic-distributions-for-problematic-data-4.4\"><span class=\"toc-item-num\">4.4&nbsp;&nbsp;</span>Checking basic distributions for problematic data</a></span></li><li><span><a href=\"#Saving-datatable\" data-toc-modified-id=\"Saving-datatable-4.5\"><span class=\"toc-item-num\">4.5&nbsp;&nbsp;</span>Saving datatable</a></span></li></ul></li></ul></div>"
   ]
  },
  {
   "cell_type": "markdown",
   "metadata": {},
   "source": [
    "---\n",
    "---\n",
    "\n",
    "# Preparing additional datasets\n",
    "\n",
    "## Importing necessary python modules and defining functions\n",
    "\n",
    "The same functions were used for data preprocessing as in the case of the original dataset."
   ]
  },
  {
   "cell_type": "code",
   "execution_count": 1,
   "metadata": {},
   "outputs": [],
   "source": [
    "import gzip\n",
    "import pandas as pd\n",
    "import numpy as np\n",
    "import matplotlib.pyplot as plt\n",
    "%matplotlib inline"
   ]
  },
  {
   "cell_type": "code",
   "execution_count": 2,
   "metadata": {},
   "outputs": [],
   "source": [
    "# defining function to look into specific lines of a file\n",
    "def head(filename, minrow = 0, maxrow=10):\n",
    "    if \".gz\" in filename:\n",
    "        with gzip.open(filename, 'r') as f:\n",
    "            lines = [f.readline().decode(\"utf-8\") for line in range(1, maxrow+1)]\n",
    "    else:\n",
    "        with open(filename, 'r') as f:\n",
    "            lines = [f.readline() for line in range(1, maxrow+1)]\n",
    "    return lines[minrow:]\n",
    "        \n",
    "# defining function to search for specific strings in a file\n",
    "def grep(filename, strings = []):\n",
    "    if \".gz\" in filename:\n",
    "        with gzip.open(filename, 'r') as f:\n",
    "            lines = []\n",
    "            for l in f.readlines():\n",
    "                if len(strings) == 0 or sum([s in l.decode(\"utf-8\") for s in strings]) == len(strings):\n",
    "                    lines.append(l.decode(\"utf-8\"))\n",
    "    else:\n",
    "        with open(filename, 'r') as f:\n",
    "            lines = []\n",
    "            for l in f.readlines():\n",
    "                if len(strings) == 0 or sum([s in l for s in strings]) == len(strings):\n",
    "                    lines.append(l)\n",
    "    return lines"
   ]
  },
  {
   "cell_type": "markdown",
   "metadata": {},
   "source": [
    "## Validation dataset\n",
    "\n",
    "The validation dataset used in our pipeline is downloaded from GEO under the accession number GSE19711. According to the [GEO overview site of the study](https://www.ncbi.nlm.nih.gov/geo/query/acc.cgi), it contains methylation data obtained from the same 27k Illumina platform as our original dataset for the whole blood samples of 274 healthy patients and an additional 266 women diagnosed with ovarian cancer:\n",
    "\n",
    "> The Illumina Infinium 27k Human DNA methylation Beadchip v1.2 was used to obtain DNA methylation profiles across approximately 27,000 CpGs in whole blood samples from 540 samples, of which 266 were samples taken from postmenopausal women with ovarian cancer and 274 were from age-matched healthy controls.\n",
    "\n",
    "In the validation cohort, both diseased and healthy donors will be included. This decision is based on the observation of [Horvath (2013) Additional file 2](https://static-content.springer.com/esm/art%3A10.1186%2Fgb-2013-14-10-r115/MediaObjects/13059_2013_3156_MOESM2_ESM.docx) that the disease status did not seem to influence DNAm age in this cohort.\n",
    "\n",
    "The series matrix file was downloaded from:\n",
    "\n",
    "```https://ftp.ncbi.nlm.nih.gov/geo/series/GSE19nnn/GSE19711/matrix/GSE19711_series_matrix.txt.gz```"
   ]
  },
  {
   "cell_type": "code",
   "execution_count": 3,
   "metadata": {},
   "outputs": [
    {
     "data": {
      "text/plain": [
       "['!Series_title\\t\"Genome wide DNA methylation profiling of United Kingdom Ovarian Cancer Population Study (UKOPS)\"\\n',\n",
       " '!Series_geo_accession\\t\"GSE19711\"\\n',\n",
       " '!Series_status\\t\"Public on Mar 01 2010\"\\n',\n",
       " '!Series_submission_date\\t\"Dec 31 2009\"\\n',\n",
       " '!Series_last_update_date\\t\"Jan 02 2015\"\\n',\n",
       " '!Series_pubmed_id\\t\"20219944\"\\n',\n",
       " '!Series_summary\\t\"The Illumina Infinium 27k Human DNA methylation Beadchip v1.2 was used to obtain DNA methylation profiles across approximately 27,000 CpGs in whole blood samples from 540 samples, of which 266 were samples taken from postmenopausal women with ovarian cancer and 274 were from age-matched healthy controls\"\\n',\n",
       " '!Series_summary\\t\"\"\\n',\n",
       " '!Series_summary\\t\"Keywords: DNA methylation\"\\n',\n",
       " '!Series_overall_design\\t\"Bisulphite converted DNA from the 540 samples were hybridised to the Illumina Infinium 27k Human Methylation Beadchip v1.2\"\\n']"
      ]
     },
     "execution_count": 3,
     "metadata": {},
     "output_type": "execute_result"
    }
   ],
   "source": [
    "head(\"GSE19711_series_matrix.txt.gz\")"
   ]
  },
  {
   "cell_type": "markdown",
   "metadata": {},
   "source": [
    "### Obtaining metadata"
   ]
  },
  {
   "cell_type": "code",
   "execution_count": 4,
   "metadata": {},
   "outputs": [],
   "source": [
    "GEO_ids = grep(\"GSE19711_series_matrix.txt.gz\", strings=[\"!Sample_geo_accession\"])[0].replace('\"', '').strip().split(\"\\t\")[1:]\n",
    "\n",
    "age_base = grep(\"GSE19711_series_matrix.txt.gz\", strings=[\"ageatrecruitment\"])[0].replace('\"', '').strip().split(\"\\t\")[1:]\n",
    "age = [int(a.split(\": \")[1]) for a in age_base]\n",
    "\n",
    "gender = [\"female\"]*len(age) # all patients are females"
   ]
  },
  {
   "cell_type": "markdown",
   "metadata": {},
   "source": [
    "### Loading methylation $\\beta$-values"
   ]
  },
  {
   "cell_type": "code",
   "execution_count": 5,
   "metadata": {},
   "outputs": [],
   "source": [
    "methylation_data = pd.read_csv(\"GSE19711_series_matrix.txt.gz\", sep=\"\\t\", comment=\"!\")"
   ]
  },
  {
   "cell_type": "markdown",
   "metadata": {},
   "source": [
    "### Putting it together"
   ]
  },
  {
   "cell_type": "code",
   "execution_count": 6,
   "metadata": {},
   "outputs": [],
   "source": [
    "# setting the index to be probe IDs\n",
    "methylation_data.index = methylation_data[\"ID_REF\"]\n",
    "# dropping the probe ID column as it's already present as the index\n",
    "methylation_data = methylation_data[methylation_data.columns[1:]]\n",
    "\n",
    "# transposing the dataframe, so each row now corresponds with a sample and each column with a probe\n",
    "# with measurement beta-values in each cell\n",
    "methylation_data = methylation_data.transpose()\n",
    "\n",
    "# adding the chronological age as an additional column\n",
    "methylation_data[\"age\"] = [age[GEO_ids.index(k)] for k in methylation_data.index]\n",
    "\n",
    "# adding gender as an additional column\n",
    "methylation_data[\"gender\"] = [gender[GEO_ids.index(k)] for k in methylation_data.index]"
   ]
  },
  {
   "cell_type": "markdown",
   "metadata": {},
   "source": [
    "### Checking basic distributions for problematic data"
   ]
  },
  {
   "cell_type": "code",
   "execution_count": 7,
   "metadata": {},
   "outputs": [
    {
     "data": {
      "image/png": "[encoded data removed]",
      "text/plain": [
       "<Figure size 432x288 with 1 Axes>"
      ]
     },
     "metadata": {
      "needs_background": "light"
     },
     "output_type": "display_data"
    }
   ],
   "source": [
    "methylation_data.pivot(columns=\"gender\", values=\"age\").plot.hist(bins=50, alpha=0.5)\n",
    "plt.xlabel(\"chronological age (years)\")\n",
    "plt.ylabel(\"number of samples\");"
   ]
  },
  {
   "cell_type": "markdown",
   "metadata": {},
   "source": [
    "The age distribution is in line with the fact that samples were collected from post-menopausal women."
   ]
  },
  {
   "cell_type": "code",
   "execution_count": 8,
   "metadata": {},
   "outputs": [
    {
     "data": {
      "image/png": "[encoded data removed]",
      "text/plain": [
       "<Figure size 432x288 with 1 Axes>"
      ]
     },
     "metadata": {
      "needs_background": "light"
     },
     "output_type": "display_data"
    }
   ],
   "source": [
    "probe_columns = [c for c in methylation_data.columns if c[:2]==\"cg\"]\n",
    "N = 500\n",
    "plt.hist(np.array(methylation_data[np.random.choice(probe_columns, size=N, \n",
    "                                                    replace=False)]).reshape(methylation_data.shape[0]*N), \n",
    "         bins=100);\n",
    "plt.xlabel(r'methylation $\\beta$-value')\n",
    "plt.ylabel(\"number of measurements\");"
   ]
  },
  {
   "cell_type": "markdown",
   "metadata": {},
   "source": [
    "There are no strange effects in the $\\beta$-value distribution either."
   ]
  },
  {
   "cell_type": "code",
   "execution_count": 9,
   "metadata": {},
   "outputs": [
    {
     "data": {
      "image/png": "[encoded data removed]",
      "text/plain": [
       "<Figure size 432x288 with 1 Axes>"
      ]
     },
     "metadata": {
      "needs_background": "light"
     },
     "output_type": "display_data"
    }
   ],
   "source": [
    "plt.hist(methylation_data[probe_columns].isnull().sum(axis=0), bins=100)\n",
    "plt.xlabel(\"Number of missing instances\")\n",
    "plt.ylabel(\"Number of probes\")\n",
    "# using logarithmic y-axis to get a more easily interpretable figure\n",
    "plt.yscale(\"log\");"
   ]
  },
  {
   "cell_type": "code",
   "execution_count": 10,
   "metadata": {},
   "outputs": [
    {
     "data": {
      "text/plain": [
       "114"
      ]
     },
     "execution_count": 10,
     "metadata": {},
     "output_type": "execute_result"
    }
   ],
   "source": [
    "# number of probes with more than 10 missing values\n",
    "(methylation_data[probe_columns].isnull().sum(axis=0) > 10).sum()"
   ]
  },
  {
   "cell_type": "markdown",
   "metadata": {},
   "source": [
    "There aren't very many probes with extreme number of missing values.\n",
    "\n",
    "### Saving datatable"
   ]
  },
  {
   "cell_type": "code",
   "execution_count": 11,
   "metadata": {},
   "outputs": [],
   "source": [
    "methylation_data.to_csv(\"validation_dataset.csv\")"
   ]
  },
  {
   "cell_type": "markdown",
   "metadata": {},
   "source": [
    "## Additional dataset #1\n",
    "\n",
    "The first additional dataset we use for the extended model is downloaded from GEO under the accession number GSE20067. According to the [GEO overview site of the study](https://www.ncbi.nlm.nih.gov/geo/query/acc.cgi), samples were processed with the 27k Illumina beadchip array and were obtained from diabetes patients with or without renal disease.\n",
    "\n",
    "> The Illumina Infinium 27k Human DNA methylation Beadchip v1.2 was used to obtain DNA methylation profiles across approximately 27,000 CpGs in whole blood samples from a case-control study of 192 Irish patients with type 1 diabetes mellitus (T1D). Cases had T1D and nephropathy whereas controls had T1D but no evidence of renal disease.\n",
    "\n",
    "We include both patients with nephropathy and healthy donors in the dataset. This is based on the observation of [Horvath (2013) Additional file 2](https://static-content.springer.com/esm/art%3A10.1186%2Fgb-2013-14-10-r115/MediaObjects/13059_2013_3156_MOESM2_ESM.docx) that the disease status did not seem to influence DNAm age in this cohort.\n",
    "\n",
    "The series matrix file was downloaded from:\n",
    "\n",
    "```https://ftp.ncbi.nlm.nih.gov/geo/series/GSE20nnn/GSE20067/matrix/GSE20067_series_matrix.txt.gz```"
   ]
  },
  {
   "cell_type": "code",
   "execution_count": 12,
   "metadata": {},
   "outputs": [
    {
     "data": {
      "text/plain": [
       "['!Series_title\\t\"Genome wide DNA methylation profiling of diabetic nephropathy in type 1 diabetes mellitus\"\\n',\n",
       " '!Series_geo_accession\\t\"GSE20067\"\\n',\n",
       " '!Series_status\\t\"Public on Mar 01 2010\"\\n',\n",
       " '!Series_submission_date\\t\"Jan 27 2010\"\\n',\n",
       " '!Series_last_update_date\\t\"Aug 28 2019\"\\n',\n",
       " '!Series_pubmed_id\\t\"20219944\"\\n',\n",
       " '!Series_pubmed_id\\t\"20687937\"\\n',\n",
       " '!Series_summary\\t\"The Illumina Infinium 27k Human DNA methylation Beadchip v1.2 was used to obtain DNA methylation profiles across approximately 27,000 CpGs in whole blood samples from a case-control study of 192 Irish patients with type 1 diabetes mellitus (T1D). Cases had T1D and nephropathy whereas controls had T1D but no evidence of renal disease.\"\\n',\n",
       " '!Series_summary\\t\"emails: christopher.bell@cancer.ucl.ac.uk, a.teschendorff@ucl.ac.uk\"\\n',\n",
       " '!Series_summary\\t\"\"\\n']"
      ]
     },
     "execution_count": 12,
     "metadata": {},
     "output_type": "execute_result"
    }
   ],
   "source": [
    "head(\"GSE20067_series_matrix.txt.gz\")"
   ]
  },
  {
   "cell_type": "markdown",
   "metadata": {},
   "source": [
    "### Obtaining metadata"
   ]
  },
  {
   "cell_type": "code",
   "execution_count": 13,
   "metadata": {},
   "outputs": [],
   "source": [
    "GEO_ids = grep(\"GSE20067_series_matrix.txt.gz\", strings=[\"!Sample_geo_accession\"])[0].replace('\"', '').strip().split(\"\\t\")[1:]\n",
    "\n",
    "age_base = grep(\"GSE20067_series_matrix.txt.gz\", strings=[\"ageatdiagnosis\"])[0].replace('\"', '').strip().split(\"\\t\")[1:]\n",
    "age = [int(a.split(\": \")[1]) for a in age_base]\n",
    "\n",
    "gender_base = grep(\"GSE20067_series_matrix.txt.gz\", strings=[\"sex:\"])[0].replace('\"', '').strip().split(\"\\t\")[1:]\n",
    "gender = [g.split(\": \")[1] for g in gender_base]"
   ]
  },
  {
   "cell_type": "markdown",
   "metadata": {},
   "source": [
    "### Loading methylation $\\beta$-values"
   ]
  },
  {
   "cell_type": "code",
   "execution_count": 14,
   "metadata": {},
   "outputs": [],
   "source": [
    "methylation_data = pd.read_csv(\"GSE20067_series_matrix.txt.gz\", sep=\"\\t\", comment=\"!\")"
   ]
  },
  {
   "cell_type": "markdown",
   "metadata": {},
   "source": [
    "### Putting it together"
   ]
  },
  {
   "cell_type": "code",
   "execution_count": 15,
   "metadata": {},
   "outputs": [],
   "source": [
    "# setting the index to be probe IDs\n",
    "methylation_data.index = methylation_data[\"ID_REF\"]\n",
    "# dropping the probe ID column as it's already present as the index\n",
    "methylation_data = methylation_data[methylation_data.columns[1:]]\n",
    "\n",
    "# transposing the dataframe, so each row now corresponds with a sample and each column with a probe\n",
    "# with measurement beta-values in each cell\n",
    "methylation_data = methylation_data.transpose()\n",
    "\n",
    "# adding the chronological age as an additional column\n",
    "methylation_data[\"age\"] = [age[GEO_ids.index(k)] for k in methylation_data.index]\n",
    "\n",
    "# adding gender as an additional column\n",
    "methylation_data[\"gender\"] = [gender[GEO_ids.index(k)] for k in methylation_data.index]"
   ]
  },
  {
   "cell_type": "markdown",
   "metadata": {},
   "source": [
    "### Checking basic distributions for problematic data"
   ]
  },
  {
   "cell_type": "code",
   "execution_count": 16,
   "metadata": {},
   "outputs": [
    {
     "data": {
      "image/png": "[encoded data removed]",
      "text/plain": [
       "<Figure size 432x288 with 1 Axes>"
      ]
     },
     "metadata": {
      "needs_background": "light"
     },
     "output_type": "display_data"
    }
   ],
   "source": [
    "methylation_data.pivot(columns=\"gender\", values=\"age\").plot.hist(bins=50, alpha=0.5)\n",
    "plt.xlabel(\"chronological age (years)\")\n",
    "plt.ylabel(\"number of samples\");"
   ]
  },
  {
   "cell_type": "markdown",
   "metadata": {},
   "source": [
    "This dataset contains samples from relatively young patients, but with a fairly homogeneous distribution of ages between different genders."
   ]
  },
  {
   "cell_type": "code",
   "execution_count": 17,
   "metadata": {},
   "outputs": [
    {
     "data": {
      "image/png": "[encoded data removed]",
      "text/plain": [
       "<Figure size 432x288 with 1 Axes>"
      ]
     },
     "metadata": {
      "needs_background": "light"
     },
     "output_type": "display_data"
    }
   ],
   "source": [
    "probe_columns = [c for c in methylation_data.columns if c[:2]==\"cg\"]\n",
    "N = 500\n",
    "plt.hist(np.array(methylation_data[np.random.choice(probe_columns, size=N, \n",
    "                                                    replace=False)]).reshape(methylation_data.shape[0]*N), \n",
    "         bins=100);\n",
    "plt.xlabel(r'methylation $\\beta$-value')\n",
    "plt.ylabel(\"number of measurements\");"
   ]
  },
  {
   "cell_type": "markdown",
   "metadata": {},
   "source": [
    "There are no strange effects in the $\\beta$-value distribution either."
   ]
  },
  {
   "cell_type": "code",
   "execution_count": 18,
   "metadata": {},
   "outputs": [
    {
     "data": {
      "image/png": "[encoded data removed]",
      "text/plain": [
       "<Figure size 432x288 with 1 Axes>"
      ]
     },
     "metadata": {
      "needs_background": "light"
     },
     "output_type": "display_data"
    }
   ],
   "source": [
    "plt.hist(methylation_data[probe_columns].isnull().sum(axis=0), bins=100)\n",
    "plt.xlabel(\"Number of missing instances\")\n",
    "plt.ylabel(\"Number of probes\")\n",
    "# using logarithmic y-axis to get a more easily interpretable figure\n",
    "plt.yscale(\"log\");"
   ]
  },
  {
   "cell_type": "code",
   "execution_count": 19,
   "metadata": {},
   "outputs": [
    {
     "data": {
      "text/plain": [
       "34"
      ]
     },
     "execution_count": 19,
     "metadata": {},
     "output_type": "execute_result"
    }
   ],
   "source": [
    "# number of probes with more than 10 missing values\n",
    "(methylation_data[probe_columns].isnull().sum(axis=0) > 10).sum()"
   ]
  },
  {
   "cell_type": "markdown",
   "metadata": {},
   "source": [
    "There aren't very many probes with extreme number of missing values.\n",
    "\n",
    "### Saving datatable"
   ]
  },
  {
   "cell_type": "code",
   "execution_count": 20,
   "metadata": {},
   "outputs": [],
   "source": [
    "methylation_data.to_csv(\"additional_dataset1.csv\")"
   ]
  },
  {
   "attachments": {},
   "cell_type": "markdown",
   "metadata": {},
   "source": [
    "## Additional dataset #2\n",
    "\n",
    "The second additional dataset we use for the extended model is downloaded from GEO under the accession number GSE20236. According to the [GEO overview site of the study](https://www.ncbi.nlm.nih.gov/geo/query/acc.cgi), whole blood samples were processed with the 27k Illumina beadchip array and were obtained from healthy female patients.\n",
    "\n",
    "> We measured the methylation state of 27,578 CpG sites (Illumina HumanMethylation27 array) in whole blood samples from 93 heathy human females aged between 49 and 74, to discover sites which change methylation state with age.\n",
    "\n",
    "The series matrix file was downloaded from:\n",
    "\n",
    "```https://ftp.ncbi.nlm.nih.gov/geo/series/GSE20nnn/GSE20236/matrix/GSE20236_series_matrix.txt.gz```"
   ]
  },
  {
   "cell_type": "code",
   "execution_count": 21,
   "metadata": {},
   "outputs": [
    {
     "data": {
      "text/plain": [
       "['!Series_title\\t\"Human Aging-associated DNA Hypermethylation Occurs Preferentially at Bivalent Chromatin Domains\"\\n',\n",
       " '!Series_geo_accession\\t\"GSE20236\"\\n',\n",
       " '!Series_status\\t\"Public on Feb 10 2010\"\\n',\n",
       " '!Series_submission_date\\t\"Feb 09 2010\"\\n',\n",
       " '!Series_last_update_date\\t\"Jan 02 2015\"\\n',\n",
       " '!Series_pubmed_id\\t\"20219945\"\\n',\n",
       " '!Series_summary\\t\"There is a growing realization that some aging-associated phenotypes/diseases have an epigenetic basis. Here we report the first genome-scale study of epigenomic dynamics during normal human aging. We identify aging-associated differentially methylated regions (aDMRs) in whole blood in a discovery cohort, and then replicate these aDMRs in sorted CD4+ T-cells and CD14+ monocytes in an independent cohort, suggesting that aDMRs occur in precursor haematopoietic cells. Further replication of the aDMRs in buccal cells, representing a tissue that originates from a different germ-layer compared with blood, demonstrates that the aDMR signature is a multi-tissue phenomenon. Moreover, we demonstrate that aging-associated DNA hypermethylation occurs predominantly at bivalent chromatin domain promoters. This same category of promoters, associated with key developmental genes, is frequently hypermethylated in cancers and in vitro cell culture, pointing to a novel mechanistic link between aberrant hypermethylation in cancer, aging, and cell culture.\"\\n',\n",
       " '!Series_overall_design\\t\"We measured the methylation state of 27,578 CpG sites (Illumina HumanMethylation27 array) in whole blood samples from 93 heathy human females aged between 49 and 74, to discover sites which change methylation state with age.\"\\n',\n",
       " '!Series_type\\t\"Methylation profiling by array\"\\n',\n",
       " '!Series_contributor\\t\"Vardhman,K,Rakyan\"\\n']"
      ]
     },
     "execution_count": 21,
     "metadata": {},
     "output_type": "execute_result"
    }
   ],
   "source": [
    "head(\"GSE20236_series_matrix.txt.gz\")"
   ]
  },
  {
   "cell_type": "markdown",
   "metadata": {},
   "source": [
    "### Obtaining metadata"
   ]
  },
  {
   "cell_type": "code",
   "execution_count": 22,
   "metadata": {},
   "outputs": [],
   "source": [
    "GEO_ids = grep(\"GSE20236_series_matrix.txt.gz\", strings=[\"!Sample_geo_accession\"])[0].replace('\"', '').strip().split(\"\\t\")[1:]\n",
    "\n",
    "age_base = grep(\"GSE20236_series_matrix.txt.gz\", strings=[\"age:\"])[0].replace('\"', '').strip().split(\"\\t\")[1:]\n",
    "age = [float(a.split(\": \")[1].split(\" \")[0]) for a in age_base]\n",
    "\n",
    "gender = [\"female\"]*len(age) # all patients are females"
   ]
  },
  {
   "cell_type": "markdown",
   "metadata": {},
   "source": [
    "### Loading methylation $\\beta$-values"
   ]
  },
  {
   "cell_type": "code",
   "execution_count": 23,
   "metadata": {},
   "outputs": [],
   "source": [
    "methylation_data = pd.read_csv(\"GSE20236_series_matrix.txt.gz\", sep=\"\\t\", comment=\"!\")"
   ]
  },
  {
   "cell_type": "markdown",
   "metadata": {},
   "source": [
    "### Putting it together"
   ]
  },
  {
   "cell_type": "code",
   "execution_count": 24,
   "metadata": {},
   "outputs": [],
   "source": [
    "# setting the index to be probe IDs\n",
    "methylation_data.index = methylation_data[\"ID_REF\"]\n",
    "# dropping the probe ID column as it's already present as the index\n",
    "methylation_data = methylation_data[methylation_data.columns[1:]]\n",
    "\n",
    "# transposing the dataframe, so each row now corresponds with a sample and each column with a probe\n",
    "# with measurement beta-values in each cell\n",
    "methylation_data = methylation_data.transpose()\n",
    "\n",
    "# adding the chronological age as an additional column\n",
    "methylation_data[\"age\"] = [age[GEO_ids.index(k)] for k in methylation_data.index]\n",
    "\n",
    "# adding gender as an additional column\n",
    "methylation_data[\"gender\"] = [gender[GEO_ids.index(k)] for k in methylation_data.index]"
   ]
  },
  {
   "cell_type": "markdown",
   "metadata": {},
   "source": [
    "### Checking basic distributions for problematic data"
   ]
  },
  {
   "cell_type": "code",
   "execution_count": 25,
   "metadata": {},
   "outputs": [
    {
     "data": {
      "image/png": "[encoded data removed]",
      "text/plain": [
       "<Figure size 432x288 with 1 Axes>"
      ]
     },
     "metadata": {
      "needs_background": "light"
     },
     "output_type": "display_data"
    }
   ],
   "source": [
    "methylation_data.pivot(columns=\"gender\", values=\"age\").plot.hist(bins=50, alpha=0.5)\n",
    "plt.xlabel(\"chronological age (years)\")\n",
    "plt.ylabel(\"number of samples\");"
   ]
  },
  {
   "cell_type": "markdown",
   "metadata": {},
   "source": [
    "This dataset contains samples from females aged between 49 and 74 years, this is in line with the age distribution above."
   ]
  },
  {
   "cell_type": "code",
   "execution_count": 26,
   "metadata": {},
   "outputs": [
    {
     "data": {
      "image/png": "[encoded data removed]",
      "text/plain": [
       "<Figure size 432x288 with 1 Axes>"
      ]
     },
     "metadata": {
      "needs_background": "light"
     },
     "output_type": "display_data"
    }
   ],
   "source": [
    "probe_columns = [c for c in methylation_data.columns if c[:2]==\"cg\"]\n",
    "N = 500\n",
    "plt.hist(np.array(methylation_data[np.random.choice(probe_columns, size=N, \n",
    "                                                    replace=False)]).reshape(methylation_data.shape[0]*N), \n",
    "         bins=100);\n",
    "plt.xlabel(r'methylation $\\beta$-value')\n",
    "plt.ylabel(\"number of measurements\");"
   ]
  },
  {
   "cell_type": "markdown",
   "metadata": {},
   "source": [
    "There are no strange effects in the $\\beta$-value distribution either."
   ]
  },
  {
   "cell_type": "code",
   "execution_count": 27,
   "metadata": {},
   "outputs": [
    {
     "data": {
      "image/png": "[encoded data removed]",
      "text/plain": [
       "<Figure size 432x288 with 1 Axes>"
      ]
     },
     "metadata": {
      "needs_background": "light"
     },
     "output_type": "display_data"
    }
   ],
   "source": [
    "plt.hist(methylation_data[probe_columns].isnull().sum(axis=0), bins=100)\n",
    "plt.xlabel(\"Number of missing instances\")\n",
    "plt.ylabel(\"Number of probes\")\n",
    "# using logarithmic y-axis to get a more easily interpretable figure\n",
    "plt.yscale(\"log\");"
   ]
  },
  {
   "cell_type": "code",
   "execution_count": 28,
   "metadata": {},
   "outputs": [
    {
     "data": {
      "text/plain": [
       "0"
      ]
     },
     "execution_count": 28,
     "metadata": {},
     "output_type": "execute_result"
    }
   ],
   "source": [
    "# number of probes with more than 10 missing values\n",
    "(methylation_data[probe_columns].isnull().sum(axis=0) > 10).sum()"
   ]
  },
  {
   "cell_type": "markdown",
   "metadata": {},
   "source": [
    "There aren't any probes with missing values.\n",
    "\n",
    "### Saving datatable"
   ]
  },
  {
   "cell_type": "code",
   "execution_count": 29,
   "metadata": {},
   "outputs": [],
   "source": [
    "methylation_data.to_csv(\"additional_dataset2.csv\")"
   ]
  }
 ],
 "metadata": {
  "kernelspec": {
   "display_name": "Python 3",
   "language": "python",
   "name": "python3"
  },
  "language_info": {
   "codemirror_mode": {
    "name": "ipython",
    "version": 3
   },
   "file_extension": ".py",
   "mimetype": "text/x-python",
   "name": "python",
   "nbconvert_exporter": "python",
   "pygments_lexer": "ipython3",
   "version": "3.8.5"
  },
  "toc": {
   "base_numbering": 1,
   "nav_menu": {},
   "number_sections": true,
   "sideBar": true,
   "skip_h1_title": true,
   "title_cell": "Table of Contents",
   "title_sidebar": "Contents",
   "toc_cell": true,
   "toc_position": {},
   "toc_section_display": true,
   "toc_window_display": true
  }
 },
 "nbformat": 4,
 "nbformat_minor": 4
}
